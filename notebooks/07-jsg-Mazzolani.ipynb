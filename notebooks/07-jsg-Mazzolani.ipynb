{
 "cells": [
  {
   "cell_type": "code",
   "execution_count": 3,
   "metadata": {},
   "outputs": [
    {
     "name": "stdout",
     "output_type": "stream",
     "text": [
      "Interpreter dir: /Users/jsg/Documents/GitHub/water_hackathlon/.venv_waterhack/bin/python3\n",
      "Working dir: /Users/jsg/Documents/GitHub/water_hackathlon\n"
     ]
    }
   ],
   "source": [
    "import sys\n",
    "print(f'Interpreter dir: {sys.executable}')\n",
    "import os\n",
    "\n",
    "if os.path.basename(os.getcwd()) == 'notebooks':\n",
    "    os.chdir('../')\n",
    "    \n",
    "print(f'Working dir: {os.getcwd()}')\n",
    "%load_ext autoreload\n",
    "%autoreload 2"
   ]
  },
  {
   "cell_type": "code",
   "execution_count": 4,
   "metadata": {},
   "outputs": [],
   "source": [
    "import pprint\n",
    "import pandas as pd\n",
    "import numpy as np\n",
    "pd.set_option('display.max_columns', 100)\n",
    "from pandas_profiling import ProfileReport\n",
    "import seaborn as sns\n",
    "from sklearn.model_selection import TimeSeriesSplit, train_test_split\n",
    "from sklearn.model_selection import GridSearchCV,RandomizedSearchCV,KFold,cross_val_score,ShuffleSplit,StratifiedKFold\n",
    "from sklearn.metrics import accuracy_score,roc_auc_score,confusion_matrix,classification_report\n",
    "import matplotlib.pyplot as plt\n",
    "\n",
    "from scipy.stats import randint,uniform\n",
    "import lightgbm as lgb\n",
    "\n",
    "from waterhack.visualize import time_vs_y\n",
    "from waterhack.utils import find_col\n",
    "from waterhack.utils import series_to_supervised"
   ]
  },
  {
   "cell_type": "code",
   "execution_count": 5,
   "metadata": {},
   "outputs": [],
   "source": [
    "from ortools.linear_solver import pywraplp"
   ]
  },
  {
   "cell_type": "markdown",
   "metadata": {},
   "source": [
    "# Run optimization as Mazzolani\n",
    "\n",
    "---\n",
    "\n",
    "The parameters/inuts are:\n",
    "- $K$: ratio bwith Ln.\n",
    "- $V_d$ or `vol_day`: average day volume at day $d$\n",
    "- $V_{n,d}$ or `vol_nf`: average night flow volume at day $d$\n",
    "\n",
    "The only variable in the original equation is then $L_n$, representing the night leakage, constant along the days. This is an assumption of the paper, which we could extend in the future.\n",
    "\n",
    "The main formula is:\n",
    "\n",
    "$$K \\cdot V_d - K \\cdot L_n + L_n = V_{n,d}$$\n",
    "\n",
    "The first term represents the \"real\" day volume. The second term represents the real day leakage, plus the third term which is the leakage.\n",
    "\n",
    "Because the system of equation (in practice) has no solution, we find the best one as follows.\n",
    "\n",
    "Minimize $ \\sum_d ( \\epsilon^+_d + \\epsilon^-_d)$\n",
    "\n",
    "subject to $K \\cdot V_d +(1- K) \\cdot L_n  = V_{n,d} + \\epsilon^+_d - \\epsilon^-_d$\n",
    "\n",
    "The constraints can be written as:\n",
    "\n",
    "$ L_n (1- K ) - \\epsilon^+_d + \\epsilon^-_d = V_{n,d}  - K \\cdot V_d$\n",
    "\n",
    "Where the variables $L_n$, $\\epsilon^+_d$ and $\\epsilon^-_d$ are $>=0$.\n",
    "\n",
    "---\n"
   ]
  },
  {
   "cell_type": "code",
   "execution_count": 112,
   "metadata": {},
   "outputs": [],
   "source": [
    "def get_ln(vol_day, vol_nf, K):\n",
    "    return (vol_nf - K*vol_day)/(1-K)\n",
    "\n",
    "\n",
    "def optimizeK(vol_day,vol_nf,K, debug=False):\n",
    "    \"\"\"Find the optimal value of leakage\n",
    "    \"\"\"\n",
    "    # Number of data points\n",
    "    N = len(vol_day)\n",
    "    assert len(vol_day) == len(vol_nf), \"Length of volumes do not match\"\n",
    "    \n",
    "    # Define linear solver\n",
    "    solver = pywraplp.Solver.CreateSolver('linear_programming', 'GLOP')\n",
    "    \n",
    "    # Create variables to be optimized\n",
    "    Ln = solver.NumVar(-solver.infinity(),solver.infinity(), 'Ln')\n",
    "    \n",
    "    eps_pos, eps_neg = [-999]*N, [-999]*N\n",
    "    for i in range(N):\n",
    "        eps_pos[i] = solver.NumVar(0, solver.infinity(), f'eps_pos_{i}')\n",
    "        eps_neg[i] = solver.NumVar(0,solver.infinity(), f'eps_neg_{i}')\n",
    "    \n",
    "    # Constraints\n",
    "    constraints = [0] * N\n",
    "    for i in range(N):\n",
    "        c_term =  vol_nf[i] - K * vol_day[i]\n",
    "        constraints[i] = solver.Constraint(c_term, c_term)\n",
    "        constraints[i].SetCoefficient(eps_pos[i], -1)\n",
    "        constraints[i].SetCoefficient(eps_neg[i], 1)\n",
    "        constraints[i].SetCoefficient(Ln, (1-K))\n",
    "\n",
    "    # Objective function: sum(eps)\n",
    "    objective = solver.Objective()\n",
    "    for i in range(N):              \n",
    "        objective.SetCoefficient(eps_pos[i], 1)\n",
    "        objective.SetCoefficient(eps_neg[i], 1)\n",
    "    objective.SetMinimization()\n",
    "\n",
    "    # Solve the system.\n",
    "    solved = solver.Solve()\n",
    "    if solved == solver.OPTIMAL:\n",
    "        result_status = 'optimal'\n",
    "    elif solved == solver.INFEASIBLE:\n",
    "        result_status = 'No solution found'\n",
    "    elif solved == solver.POSSIBLE_OVERFLOW:\n",
    "        result_status = 'Integer overflow'\n",
    "    else:\n",
    "        result_status = solver.POSSIBLE_OVERFLOW\n",
    "\n",
    "    # [START print_solution]\n",
    "    # The value of each variable in the solution.\n",
    "    eps_pos_sol = [-999]*N\n",
    "    eps_neg_sol = [-999]*N\n",
    "    for i in range(N):\n",
    "        eps_pos_sol[i] = eps_pos[i].solution_value()\n",
    "        eps_neg_sol[i] = eps_pos[i].solution_value()\n",
    "    \n",
    "    # The objective value of the solution.\n",
    "    obj_value = np.sum(eps_pos_sol) + np.sum(eps_neg_sol)\n",
    "    \n",
    "    if debug:\n",
    "        print('MODEL FORMULATION:\\n-----')\n",
    "        print(solver.ExportModelAsLpFormat(False))\n",
    "        print('----')\n",
    "        \n",
    "    \n",
    "    return {'Ln':Ln.solution_value(),\n",
    "            'eps_pos_sol' : eps_pos_sol,\n",
    "            'eps_neg_sol': eps_pos_sol,\n",
    "            'obj_value':obj_value,\n",
    "            'result_status':result_status,\n",
    "            'n_var': solver.NumVariables(),\n",
    "            'n_const':solver.NumConstraints()\n",
    "           }"
   ]
  },
  {
   "cell_type": "code",
   "execution_count": 128,
   "metadata": {},
   "outputs": [
    {
     "name": "stdout",
     "output_type": "stream",
     "text": [
      "{'Ln': -16.0,\n",
      " 'eps_neg_sol': [0.0,\n",
      "                 0.0,\n",
      "                 4.0],\n",
      " 'eps_pos_sol': [0.0,\n",
      "                 0.0,\n",
      "                 4.0],\n",
      " 'n_const': 3,\n",
      " 'n_var': 7,\n",
      " 'obj_value': 8.0,\n",
      " 'result_status': 'optimal'}\n"
     ]
    }
   ],
   "source": [
    "# vol_day = [10,20,30,20,10,30,40,60,80,30,10,13,14,15]\n",
    "# vol_nf = [5,4,6,7,8,0,0,20,10,7,5,1,2,1]\n",
    "\n",
    "vol_day = [10,20,30]\n",
    "vol_nf = [1,2,3]\n",
    "K=0.5\n",
    "sol = optimizeK(vol_day,vol_nf,K)\n",
    "pprint.pprint(sol, width=1)\n"
   ]
  },
  {
   "cell_type": "code",
   "execution_count": 129,
   "metadata": {},
   "outputs": [
    {
     "name": "stdout",
     "output_type": "stream",
     "text": [
      "Estimated daily Ln[0]:-8.0\n",
      "Estimated daily Ln[1]:-16.0\n",
      "Estimated daily Ln[2]:-24.0\n",
      " Mean of estimated Ln: -16.0\n"
     ]
    }
   ],
   "source": [
    "ln_est = []\n",
    "for i in range(len(vol_day)):\n",
    "    ln_est.append(get_ln(vol_day[i], vol_nf[i], K))\n",
    "    print(f\"Estimated daily Ln[{i}]:{ln_est[i]}\")\n",
    "\n",
    "print(f\" Mean of estimated Ln: {np.mean(ln_est)}\")\n",
    "# Para esto no necesitabbamos hacer un problema de optimizacion! Argggg\n",
    "\n"
   ]
  },
  {
   "cell_type": "markdown",
   "metadata": {},
   "source": [
    "- Si fijamos el valor de $K$: el problema de buscar un $Ln$ se reduce a hacer la media, despues de despejar cada ecuacion por separado (ver codigo superior)\n",
    "- En este caso, no necesitamos ningun tipo de optimizacion. Podemos:\n",
    "    1. Buscar el valor de Ln analiticamente, haciendo la media\n",
    "    2. Encontrar el valor de la funcion objetivo. Para cada dia: fijar el valor de Ln del paso anterior, y sumar los $\\epsilon$"
   ]
  },
  {
   "cell_type": "code",
   "execution_count": 124,
   "metadata": {},
   "outputs": [],
   "source": [
    "# i=0\n",
    "# print(f\"Reformulation:\")\n",
    "# print(f\" Left hand side: {K*vol_day[i] +(1-  K)*sol['Ln']}\")\n",
    "# print(f\" Right hand side: {vol_nf[i] + sol['eps_pos_sol'][i] - sol['eps_neg_sol'][i]}\")\n",
    "\n",
    "# print(f\"Reformulation 2:\")\n",
    "# print(f\" Left hand side: {(1-  K)*sol['Ln'] - sol['eps_pos_sol'][i] + sol['eps_neg_sol'][i] }\")\n",
    "# print(f\" Right hand side: {vol_nf[i]- K*vol_day[i]}\")"
   ]
  },
  {
   "cell_type": "code",
   "execution_count": 127,
   "metadata": {},
   "outputs": [
    {
     "data": {
      "image/png": "[encoded data removed]",
      "text/plain": [
       "<Figure size 576x396 with 1 Axes>"
      ]
     },
     "metadata": {},
     "output_type": "display_data"
    },
    {
     "data": {
      "text/plain": [
       "[<matplotlib.lines.Line2D at 0x7f7f48603810>]"
      ]
     },
     "execution_count": 127,
     "metadata": {},
     "output_type": "execute_result"
    },
    {
     "data": {
      "image/png": "[encoded data removed]",
      "text/plain": [
       "<Figure size 576x396 with 1 Axes>"
      ]
     },
     "metadata": {},
     "output_type": "display_data"
    }
   ],
   "source": [
    "vol_day = [10,20,30,20,10,30,40,60,80,30,10,13,14,15]\n",
    "vol_nf = [5,4,6,7,8,0,0,20,10,7,5,1,2,1]\n",
    "\n",
    "K = np.linspace(0,0.5,1000)\n",
    "X = []\n",
    "Ln_all = []\n",
    "for k in K:\n",
    "    sol = optimizeK(vol_day,vol_nf,K=k)\n",
    "    X.append(sol['obj_value'])\n",
    "    Ln_all.append(sol['Ln'])\n",
    "    \n",
    "plt.plot(K,X)\n",
    "plt.show()\n",
    "plt.plot(K,Ln_all)"
   ]
  },
  {
   "cell_type": "code",
   "execution_count": null,
   "metadata": {},
   "outputs": [],
   "source": []
  }
 ],
 "metadata": {
  "kernelspec": {
   "display_name": "Python 3",
   "language": "python",
   "name": "python3"
  },
  "language_info": {
   "codemirror_mode": {
    "name": "ipython",
    "version": 3
   },
   "file_extension": ".py",
   "mimetype": "text/x-python",
   "name": "python",
   "nbconvert_exporter": "python",
   "pygments_lexer": "ipython3",
   "version": "3.7.4"
  }
 },
 "nbformat": 4,
 "nbformat_minor": 4
}
